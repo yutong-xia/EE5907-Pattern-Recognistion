{
 "cells": [
  {
   "cell_type": "code",
   "execution_count": 49,
   "metadata": {},
   "outputs": [],
   "source": [
    "import numpy as np\n",
    "import pandas as pd\n",
    "import seaborn as sb\n",
    "import matplotlib.pyplot as plt\n",
    "import random\n",
    "import matplotlib.image as mpimg\n",
    "import glob\n",
    "import os"
   ]
  },
  {
   "cell_type": "markdown",
   "metadata": {},
   "source": [
    "# PCA"
   ]
  },
  {
   "cell_type": "code",
   "execution_count": 165,
   "metadata": {},
   "outputs": [],
   "source": [
    "def gen_dataset(path = './PIE', n_objects = 28, use_cache = True):\n",
    "    '''\n",
    "    Randomly sample 28 objects from the CMU PIE set\n",
    "    '''\n",
    "    if use_cache and os.path.exists('{}/cache/samples.npy'.format(path)):\n",
    "        samples = np.load('{}/cache/samples.npy'.format(path))\n",
    "        labels = np.load('{}/cache/labels.npy'.format(path))\n",
    "    else:\n",
    "        if not os.path.exists('{}/cache/'.format(path)):\n",
    "            os.mkdir('{}/cache/'.format(path))\n",
    "        idx = random.sample([i for i in range(0, 69)],n_objects)\n",
    "        samples = []\n",
    "        labels = []\n",
    "        for i in idx:\n",
    "            path_tmp = glob.glob('{}/{}/*.jpg'.format(path,i))\n",
    "            for p in path_tmp:\n",
    "                sample = mpimg.imread(p)\n",
    "                samples.append(sample)\n",
    "                labels.append(i)\n",
    "        samples = np.stack(samples, 0)\n",
    "        np.save('{}/cache/samples.npy'.format(path), samples)\n",
    "        np.save('{}/cache/labels.npy'.format(path), labels)\n",
    "    return samples,labels"
   ]
  },
  {
   "cell_type": "code",
   "execution_count": 166,
   "metadata": {},
   "outputs": [],
   "source": [
    "samples, labels = gen_dataset(n_objects = 2, use_cache = False)"
   ]
  },
  {
   "cell_type": "code",
   "execution_count": 187,
   "metadata": {},
   "outputs": [],
   "source": [
    "class PCA:\n",
    "    def __init__(self, X, num_components = 2, save_fig = True):\n",
    "        self.X = X.reshape(X.shape[0], -1)\n",
    "        self.num_components = num_components\n",
    "        self.save_fig = save_fig\n",
    "        if save_fig:\n",
    "            if not os.path.exists('./results'):\n",
    "                os.mkdir('./results')\n",
    "        \n",
    "    def plot_raw(self, num_samples = 25):\n",
    "        fig = plt.figure(figsize=(10,10), dpi = 200)\n",
    "        for i in range(num_samples):\n",
    "            ax = fig.add_subplot(5,5,i+1)\n",
    "            ax.set_xticks([])\n",
    "            ax.set_yticks([])\n",
    "            ax.imshow(self.X[i].reshape(32,32),cmap='gray')\n",
    "        plt.subplots_adjust(wspace=0, hspace=0)\n",
    "#         fig.suptitle('Original face image', fontsize=16)\n",
    "        if self.save_fig:\n",
    "            plt.savefig('./results/pca_origin.png')\n",
    "            \n",
    "        \n",
    "    def reduce_dim(self):\n",
    "        #Step-1 get the mean centering the data\n",
    "        X_meaned = self.X - np.mean(self.X , axis = 0) \n",
    "        self.X_meaned = X_meaned\n",
    "        #Step-2 Calculate the Covariance Matrix\n",
    "        cov_mat = np.cov(X_meaned , rowvar = False)\n",
    "        #Step-3 Compute the Eigenvalues and Eigenvectors\n",
    "        eigen_values , eigen_vectors = np.linalg.eigh(cov_mat)\n",
    "        #Step-4 Sort Eigenvalues in descending order\n",
    "        sorted_index = np.argsort(eigen_values)[::-1]\n",
    "        sorted_eigenvalue = eigen_values[sorted_index]\n",
    "        sorted_eigenvectors = eigen_vectors[:,sorted_index]\n",
    "        self.sorted_eigenvectors = sorted_eigenvectors\n",
    "        #Step-5 Select a subset from the rearranged Eigenvalue matrix\n",
    "        eigenvector_subset = sorted_eigenvectors[:,0:self.num_components] # [1024, num_components]\n",
    "        self.eigenvector = eigenvector_subset\n",
    "        #Step-6 Transform the data\n",
    "        X_reduced = np.dot(eigenvector_subset.transpose() , X_meaned.transpose() ).transpose()\n",
    "        self.X_reduced = X_reduced\n",
    "    \n",
    "    def recon(self):\n",
    "        tmp1 = np.dot(self.eigenvector, self.eigenvector.transpose())\n",
    "        tmp2 = self.X - self.X_meaned\n",
    "        x_recon = self.X_meaned + np.dot(tmp1, tmp2.transpose()).transpose()\n",
    "        self.x_recon = x_recon.reshape(-1, 32, 32)\n",
    "\n",
    "    def plot_pc(self, num_samples = 25):\n",
    "        fig = plt.figure(figsize=(10,10), dpi = 200)\n",
    "        for i in range(num_samples):\n",
    "            ax = fig.add_subplot(5,5,i+1)\n",
    "            ax.set_xticks([])\n",
    "            ax.set_yticks([])\n",
    "            ax.imshow(self.sorted_eigenvectors[:,i].reshape(32,32),cmap='gray')\n",
    "        plt.subplots_adjust(wspace=0, hspace=0)\n",
    "#         fig.suptitle('Eigenfaces', fontsize=16)\n",
    "        if self.save_fig:\n",
    "            plt.savefig('./results/pca_eigenfaces.png')\n",
    "            \n",
    "    def plot_recon(self, num_samples = 25):\n",
    "        fig = plt.figure(figsize=(10,10), dpi = 200)\n",
    "        for i in range(num_samples):\n",
    "            ax = fig.add_subplot(5,5,i+1)\n",
    "            ax.set_xticks([])\n",
    "            ax.set_yticks([])\n",
    "            ax.imshow(self.x_recon[i],cmap='gray')\n",
    "        plt.subplots_adjust(wspace=0, hspace=0)\n",
    "#         fig.suptitle('Reconstruction with PCs', fontsize=16)\n",
    "        if self.save_fig:\n",
    "            plt.savefig('./results/pca_recon.png')"
   ]
  },
  {
   "cell_type": "code",
   "execution_count": 188,
   "metadata": {},
   "outputs": [],
   "source": [
    "x_pca = PCA(samples)\n",
    "x_pca.plot_raw()\n",
    "x_pca.reduce_dim()\n",
    "x_pca.recon()\n",
    "x_pca.plot_pc()\n",
    "x_pca.plot_recon()"
   ]
  },
  {
   "cell_type": "code",
   "execution_count": 112,
   "metadata": {},
   "outputs": [
    {
     "data": {
      "image/png": "[encoded data removed]",
      "text/plain": [
       "<Figure size 750x750 with 1 Axes>"
      ]
     },
     "metadata": {
      "needs_background": "light"
     },
     "output_type": "display_data"
    }
   ],
   "source": [
    "plt.figure(figsize = (5,5),dpi = 150)\n",
    "# counts = 0\n",
    "# for obj in set(labels):\n",
    "#     count = labels.count(obj)\n",
    "#     plt.scatter(samples_pca[counts:count + counts,0], samples_pca[counts:count + counts,1] )\n",
    "#     counts += count\n",
    "\n",
    "for obj in set(labels):\n",
    "    count = labels.count(obj)\n",
    "    plt.scatter(samples_pca[0:count,0], samples_pca[0:count,1] )"
   ]
  }
 ],
 "metadata": {
  "kernelspec": {
   "display_name": "Python 3 (ipykernel)",
   "language": "python",
   "name": "python3"
  },
  "language_info": {
   "codemirror_mode": {
    "name": "ipython",
    "version": 3
   },
   "file_extension": ".py",
   "mimetype": "text/x-python",
   "name": "python",
   "nbconvert_exporter": "python",
   "pygments_lexer": "ipython3",
   "version": "3.9.7"
  },
  "toc": {
   "base_numbering": 1,
   "nav_menu": {},
   "number_sections": true,
   "sideBar": true,
   "skip_h1_title": false,
   "title_cell": "Table of Contents",
   "title_sidebar": "Contents",
   "toc_cell": false,
   "toc_position": {},
   "toc_section_display": true,
   "toc_window_display": false
  }
 },
 "nbformat": 4,
 "nbformat_minor": 2
}
